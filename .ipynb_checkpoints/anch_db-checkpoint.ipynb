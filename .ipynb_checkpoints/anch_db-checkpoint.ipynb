{
 "cells": [
  {
   "cell_type": "code",
   "execution_count": 1,
   "metadata": {},
   "outputs": [],
   "source": [
    "import numpy as np\n",
    "import pandas as pd\n",
    "\n",
    "from sklearn.preprocessing import MultiLabelBinarizer"
   ]
  },
  {
   "cell_type": "code",
   "execution_count": 2,
   "metadata": {},
   "outputs": [],
   "source": [
    "bugs = pd.read_csv('acnh_bugs.csv')\n",
    "fish = pd.read_csv('acnh_fish.csv')"
   ]
  },
  {
   "cell_type": "code",
   "execution_count": 3,
   "metadata": {},
   "outputs": [],
   "source": [
    "bugs['Category'] = 'Bugs'\n",
    "fish['Category'] = 'Fish'\n",
    "\n",
    "bugs.rename(columns={'Months: North Hem/South Hem':'Months'}, \n",
    "            inplace=True)\n",
    "fish.rename(columns={'Months: North Hem/South Hem':'Months'}, \n",
    "            inplace=True)"
   ]
  },
  {
   "cell_type": "code",
   "execution_count": 4,
   "metadata": {},
   "outputs": [],
   "source": [
    "bugs_months = bugs['Months'].str.split(' ', \n",
    "                                       n=-1, \n",
    "                                       expand=True)\n",
    "\n",
    "fish_months = fish['Months'].str.split(' ', \n",
    "                                       n=-1, \n",
    "                                       expand=True)"
   ]
  },
  {
   "cell_type": "code",
   "execution_count": 5,
   "metadata": {},
   "outputs": [],
   "source": [
    "bugs['North_Months'] = bugs_months[0]\n",
    "bugs['South_Months'] = bugs_months[2]\n",
    "\n",
    "fish['North_Months'] = fish_months[0]\n",
    "fish['South_Months'] = fish_months[2]"
   ]
  },
  {
   "cell_type": "code",
   "execution_count": 6,
   "metadata": {},
   "outputs": [],
   "source": [
    "bugs.drop(columns=['Months'], \n",
    "          axis=1, \n",
    "          inplace=True)\n",
    "\n",
    "fish.drop(columns=['Months'], \n",
    "          axis=1, \n",
    "          inplace=True)"
   ]
  },
  {
   "cell_type": "code",
   "execution_count": 7,
   "metadata": {},
   "outputs": [],
   "source": [
    "bugs_n_months = bugs['North_Months'].str.split('-', \n",
    "                                               n=-1, \n",
    "                                               expand=True)\n",
    "bugs_s_months = bugs['South_Months'].str.split('-', \n",
    "                                               n=-1, \n",
    "                                               expand=True)\n",
    "\n",
    "fish_n_months = fish['North_Months'].str.split('-', \n",
    "                                               n=-1, \n",
    "                                               expand=True)\n",
    "fish_s_months = fish['South_Months'].str.split('-', \n",
    "                                               n=-1, \n",
    "                                               expand=True)"
   ]
  },
  {
   "cell_type": "code",
   "execution_count": 8,
   "metadata": {},
   "outputs": [],
   "source": [
    "months = set(bugs_n_months[0])\n",
    "months |= set(bugs_n_months[1])\n",
    "months |= set(bugs_s_months[0])\n",
    "months |= set(bugs_s_months[1])\n",
    "months |= set(fish_n_months[0])\n",
    "months |= set(fish_n_months[1])\n",
    "months |= set(fish_s_months[0])\n",
    "months |= set(fish_s_months[1])"
   ]
  },
  {
   "cell_type": "code",
   "execution_count": 9,
   "metadata": {},
   "outputs": [
    {
     "name": "stdout",
     "output_type": "stream",
     "text": [
      "{None, 'June', 'Jan', 'March', 'Nov', 'Apr', 'Oct', 'Jul', 'Jun', 'All', 'July', 'May', 'Sept', 'Feb', 'Dec', 'Mar', 'Aug'}\n"
     ]
    }
   ],
   "source": [
    "print(months)"
   ]
  },
  {
   "cell_type": "code",
   "execution_count": 10,
   "metadata": {},
   "outputs": [],
   "source": [
    "months_dict = {'March':3, 'Feb':2, \n",
    "               'June':6, 'Apr':4, \n",
    "               'Sept':9, 'Dec':12, \n",
    "               'July':7, 'Mar':3, \n",
    "               'Nov':11, 'All':0, \n",
    "               'Oct':10, 'Jul':7, \n",
    "               'May':5, 'Jan':1, \n",
    "               'Aug':8, 'Jun':6, \n",
    "               None:0}"
   ]
  },
  {
   "cell_type": "code",
   "execution_count": 11,
   "metadata": {},
   "outputs": [],
   "source": [
    "bugs_n_months['bugs_n_start'] = bugs_n_months[0].map(months_dict)\n",
    "bugs_n_months['bugs_n_end'] = bugs_n_months[1].map(months_dict)\n",
    "# bugs_s_months['bugs_s_start'] = bugs_s_months[0].map(months_dict)\n",
    "# bugs_s_months['bugs_s_end'] = bugs_s_months[1].map(months_dict)\n",
    "\n",
    "# fish_n_months['fish_n_start'] = fish_n_months[0].map(months_dict)\n",
    "# fish_n_months['fish_n_end'] = fish_n_months[1].map(months_dict)\n",
    "# fish_s_months['fish_s_start'] = fish_s_months[0].map(months_dict)\n",
    "# fish_s_months['fish_s_end'] = fish_s_months[1].map(months_dict)"
   ]
  },
  {
   "cell_type": "code",
   "execution_count": 12,
   "metadata": {},
   "outputs": [],
   "source": [
    "def month_range(months):\n",
    "    s, e = int(months[0]), int(months[1])\n",
    "    if s == 0:\n",
    "        return np.arange(1, 13)\n",
    "    if e == 0:\n",
    "        return np.arange(s, s+1)\n",
    "    if s <= e:\n",
    "        return np.arange(s, e+1)\n",
    "    else:\n",
    "        return np.append(np.arange(1, e+1), np.arange(s, 13)) "
   ]
  },
  {
   "cell_type": "code",
   "execution_count": 13,
   "metadata": {
    "scrolled": true
   },
   "outputs": [],
   "source": [
    "bugs['N_Months'] = bugs_n_months[['bugs_n_start', 'bugs_n_end']].values.tolist()\n",
    "bugs['N_Months'] = bugs['N_Months'].apply(month_range)\n",
    "\n",
    "# bugs['N_Months_Start'] = bugs_n_months['bugs_n_start']\n",
    "# bugs['N_Months_End'] = bugs_n_months['bugs_n_end']\n",
    "# bugs['S_Months_Start'] = bugs_s_months['bugs_s_start']\n",
    "# bugs['S_Months_End'] = bugs_s_months['bugs_s_end']\n",
    "\n",
    "# fish['N_Months_Start'] = fish_n_months['fish_n_start']\n",
    "# fish['N_Months_End'] = fish_n_months['fish_n_end']\n",
    "# fish['S_Months_Start'] = fish_s_months['fish_s_start']\n",
    "# fish['S_Months_End'] = fish_s_months['fish_s_end']"
   ]
  },
  {
   "cell_type": "code",
   "execution_count": 14,
   "metadata": {},
   "outputs": [
    {
     "data": {
      "text/html": [
       "<div>\n",
       "<style scoped>\n",
       "    .dataframe tbody tr th:only-of-type {\n",
       "        vertical-align: middle;\n",
       "    }\n",
       "\n",
       "    .dataframe tbody tr th {\n",
       "        vertical-align: top;\n",
       "    }\n",
       "\n",
       "    .dataframe thead th {\n",
       "        text-align: right;\n",
       "    }\n",
       "</style>\n",
       "<table border=\"1\" class=\"dataframe\">\n",
       "  <thead>\n",
       "    <tr style=\"text-align: right;\">\n",
       "      <th></th>\n",
       "      <th>Name</th>\n",
       "      <th>Price</th>\n",
       "      <th>Location</th>\n",
       "      <th>Time</th>\n",
       "      <th>Category</th>\n",
       "      <th>North_Months</th>\n",
       "      <th>South_Months</th>\n",
       "      <th>N_Months</th>\n",
       "    </tr>\n",
       "  </thead>\n",
       "  <tbody>\n",
       "    <tr>\n",
       "      <th>0</th>\n",
       "      <td>Common Butterfly</td>\n",
       "      <td>160</td>\n",
       "      <td>Flowers</td>\n",
       "      <td>4am-7pm</td>\n",
       "      <td>Bugs</td>\n",
       "      <td>Sept-Jun</td>\n",
       "      <td>Mar-Dec</td>\n",
       "      <td>[1, 2, 3, 4, 5, 6, 9, 10, 11, 12]</td>\n",
       "    </tr>\n",
       "    <tr>\n",
       "      <th>1</th>\n",
       "      <td>Yellow Butterly</td>\n",
       "      <td>160</td>\n",
       "      <td>Flying</td>\n",
       "      <td>4am-7pm</td>\n",
       "      <td>Bugs</td>\n",
       "      <td>Mar-Oct</td>\n",
       "      <td>Mar-Dec</td>\n",
       "      <td>[3, 4, 5, 6, 7, 8, 9, 10]</td>\n",
       "    </tr>\n",
       "    <tr>\n",
       "      <th>2</th>\n",
       "      <td>Tiger Butterfly</td>\n",
       "      <td>240</td>\n",
       "      <td>Flying</td>\n",
       "      <td>4am-7pm</td>\n",
       "      <td>Bugs</td>\n",
       "      <td>Mar-Sept</td>\n",
       "      <td>Sept-Mar</td>\n",
       "      <td>[3, 4, 5, 6, 7, 8, 9]</td>\n",
       "    </tr>\n",
       "    <tr>\n",
       "      <th>3</th>\n",
       "      <td>Peacock Butterfly</td>\n",
       "      <td>2500</td>\n",
       "      <td>Rare flowers</td>\n",
       "      <td>4am-7pm</td>\n",
       "      <td>Bugs</td>\n",
       "      <td>Mar-Jun</td>\n",
       "      <td>Sept-Dec</td>\n",
       "      <td>[3, 4, 5, 6]</td>\n",
       "    </tr>\n",
       "    <tr>\n",
       "      <th>4</th>\n",
       "      <td>Common Bluebottle</td>\n",
       "      <td>300</td>\n",
       "      <td>Flying</td>\n",
       "      <td>4am-7pm</td>\n",
       "      <td>Bugs</td>\n",
       "      <td>Apr-Aug</td>\n",
       "      <td>Oct-Feb</td>\n",
       "      <td>[4, 5, 6, 7, 8]</td>\n",
       "    </tr>\n",
       "  </tbody>\n",
       "</table>\n",
       "</div>"
      ],
      "text/plain": [
       "                Name  Price      Location     Time Category North_Months  \\\n",
       "0   Common Butterfly    160       Flowers  4am-7pm     Bugs     Sept-Jun   \n",
       "1    Yellow Butterly    160        Flying  4am-7pm     Bugs      Mar-Oct   \n",
       "2    Tiger Butterfly    240        Flying  4am-7pm     Bugs     Mar-Sept   \n",
       "3  Peacock Butterfly   2500  Rare flowers  4am-7pm     Bugs      Mar-Jun   \n",
       "4  Common Bluebottle    300        Flying  4am-7pm     Bugs      Apr-Aug   \n",
       "\n",
       "  South_Months                           N_Months  \n",
       "0      Mar-Dec  [1, 2, 3, 4, 5, 6, 9, 10, 11, 12]  \n",
       "1      Mar-Dec          [3, 4, 5, 6, 7, 8, 9, 10]  \n",
       "2     Sept-Mar              [3, 4, 5, 6, 7, 8, 9]  \n",
       "3     Sept-Dec                       [3, 4, 5, 6]  \n",
       "4      Oct-Feb                    [4, 5, 6, 7, 8]  "
      ]
     },
     "execution_count": 14,
     "metadata": {},
     "output_type": "execute_result"
    }
   ],
   "source": [
    "bugs.head()"
   ]
  },
  {
   "cell_type": "code",
   "execution_count": 15,
   "metadata": {},
   "outputs": [],
   "source": [
    "acnh_db = bugs.drop(columns=['Time', 'South_Months'], axis=1)"
   ]
  },
  {
   "cell_type": "code",
   "execution_count": 16,
   "metadata": {},
   "outputs": [],
   "source": [
    "mlb = MultiLabelBinarizer()\n",
    "\n",
    "acnh_db = acnh_db.join(pd.DataFrame(mlb.fit_transform(acnh_db['N_Months']), columns=mlb.classes_))"
   ]
  },
  {
   "cell_type": "code",
   "execution_count": 17,
   "metadata": {},
   "outputs": [],
   "source": [
    "acnh_db.rename(columns={1:'Jan', 2:'Feb', 3:'Mar', 4:'Apr', \n",
    "                        5:'May', 6:'Jun', 7:'Jul', 8:'Aug', \n",
    "                        9:'Sep', 10:'Oct', 11:'Nov', 12:'Dec'}, \n",
    "               inplace=True)\n",
    "\n",
    "acnh_db.drop(columns=['N_Months'], \n",
    "             axis=1, \n",
    "             inplace=True)"
   ]
  },
  {
   "cell_type": "code",
   "execution_count": 18,
   "metadata": {},
   "outputs": [
    {
     "data": {
      "text/html": [
       "<div>\n",
       "<style scoped>\n",
       "    .dataframe tbody tr th:only-of-type {\n",
       "        vertical-align: middle;\n",
       "    }\n",
       "\n",
       "    .dataframe tbody tr th {\n",
       "        vertical-align: top;\n",
       "    }\n",
       "\n",
       "    .dataframe thead th {\n",
       "        text-align: right;\n",
       "    }\n",
       "</style>\n",
       "<table border=\"1\" class=\"dataframe\">\n",
       "  <thead>\n",
       "    <tr style=\"text-align: right;\">\n",
       "      <th></th>\n",
       "      <th>Name</th>\n",
       "      <th>Price</th>\n",
       "      <th>Location</th>\n",
       "      <th>Category</th>\n",
       "      <th>North_Months</th>\n",
       "      <th>Jan</th>\n",
       "      <th>Feb</th>\n",
       "      <th>Mar</th>\n",
       "      <th>Apr</th>\n",
       "      <th>May</th>\n",
       "      <th>Jun</th>\n",
       "      <th>Jul</th>\n",
       "      <th>Aug</th>\n",
       "      <th>Sep</th>\n",
       "      <th>Oct</th>\n",
       "      <th>Nov</th>\n",
       "      <th>Dec</th>\n",
       "    </tr>\n",
       "  </thead>\n",
       "  <tbody>\n",
       "    <tr>\n",
       "      <th>0</th>\n",
       "      <td>Common Butterfly</td>\n",
       "      <td>160</td>\n",
       "      <td>Flowers</td>\n",
       "      <td>Bugs</td>\n",
       "      <td>Sept-Jun</td>\n",
       "      <td>1</td>\n",
       "      <td>1</td>\n",
       "      <td>1</td>\n",
       "      <td>1</td>\n",
       "      <td>1</td>\n",
       "      <td>1</td>\n",
       "      <td>0</td>\n",
       "      <td>0</td>\n",
       "      <td>1</td>\n",
       "      <td>1</td>\n",
       "      <td>1</td>\n",
       "      <td>1</td>\n",
       "    </tr>\n",
       "    <tr>\n",
       "      <th>1</th>\n",
       "      <td>Yellow Butterly</td>\n",
       "      <td>160</td>\n",
       "      <td>Flying</td>\n",
       "      <td>Bugs</td>\n",
       "      <td>Mar-Oct</td>\n",
       "      <td>0</td>\n",
       "      <td>0</td>\n",
       "      <td>1</td>\n",
       "      <td>1</td>\n",
       "      <td>1</td>\n",
       "      <td>1</td>\n",
       "      <td>1</td>\n",
       "      <td>1</td>\n",
       "      <td>1</td>\n",
       "      <td>1</td>\n",
       "      <td>0</td>\n",
       "      <td>0</td>\n",
       "    </tr>\n",
       "    <tr>\n",
       "      <th>2</th>\n",
       "      <td>Tiger Butterfly</td>\n",
       "      <td>240</td>\n",
       "      <td>Flying</td>\n",
       "      <td>Bugs</td>\n",
       "      <td>Mar-Sept</td>\n",
       "      <td>0</td>\n",
       "      <td>0</td>\n",
       "      <td>1</td>\n",
       "      <td>1</td>\n",
       "      <td>1</td>\n",
       "      <td>1</td>\n",
       "      <td>1</td>\n",
       "      <td>1</td>\n",
       "      <td>1</td>\n",
       "      <td>0</td>\n",
       "      <td>0</td>\n",
       "      <td>0</td>\n",
       "    </tr>\n",
       "    <tr>\n",
       "      <th>3</th>\n",
       "      <td>Peacock Butterfly</td>\n",
       "      <td>2500</td>\n",
       "      <td>Rare flowers</td>\n",
       "      <td>Bugs</td>\n",
       "      <td>Mar-Jun</td>\n",
       "      <td>0</td>\n",
       "      <td>0</td>\n",
       "      <td>1</td>\n",
       "      <td>1</td>\n",
       "      <td>1</td>\n",
       "      <td>1</td>\n",
       "      <td>0</td>\n",
       "      <td>0</td>\n",
       "      <td>0</td>\n",
       "      <td>0</td>\n",
       "      <td>0</td>\n",
       "      <td>0</td>\n",
       "    </tr>\n",
       "    <tr>\n",
       "      <th>4</th>\n",
       "      <td>Common Bluebottle</td>\n",
       "      <td>300</td>\n",
       "      <td>Flying</td>\n",
       "      <td>Bugs</td>\n",
       "      <td>Apr-Aug</td>\n",
       "      <td>0</td>\n",
       "      <td>0</td>\n",
       "      <td>0</td>\n",
       "      <td>1</td>\n",
       "      <td>1</td>\n",
       "      <td>1</td>\n",
       "      <td>1</td>\n",
       "      <td>1</td>\n",
       "      <td>0</td>\n",
       "      <td>0</td>\n",
       "      <td>0</td>\n",
       "      <td>0</td>\n",
       "    </tr>\n",
       "  </tbody>\n",
       "</table>\n",
       "</div>"
      ],
      "text/plain": [
       "                Name  Price      Location Category North_Months  Jan  Feb  \\\n",
       "0   Common Butterfly    160       Flowers     Bugs     Sept-Jun    1    1   \n",
       "1    Yellow Butterly    160        Flying     Bugs      Mar-Oct    0    0   \n",
       "2    Tiger Butterfly    240        Flying     Bugs     Mar-Sept    0    0   \n",
       "3  Peacock Butterfly   2500  Rare flowers     Bugs      Mar-Jun    0    0   \n",
       "4  Common Bluebottle    300        Flying     Bugs      Apr-Aug    0    0   \n",
       "\n",
       "   Mar  Apr  May  Jun  Jul  Aug  Sep  Oct  Nov  Dec  \n",
       "0    1    1    1    1    0    0    1    1    1    1  \n",
       "1    1    1    1    1    1    1    1    1    0    0  \n",
       "2    1    1    1    1    1    1    1    0    0    0  \n",
       "3    1    1    1    1    0    0    0    0    0    0  \n",
       "4    0    1    1    1    1    1    0    0    0    0  "
      ]
     },
     "execution_count": 18,
     "metadata": {},
     "output_type": "execute_result"
    }
   ],
   "source": [
    "acnh_db.head()"
   ]
  },
  {
   "cell_type": "code",
   "execution_count": null,
   "metadata": {},
   "outputs": [],
   "source": []
  }
 ],
 "metadata": {
  "kernelspec": {
   "display_name": "Python 3",
   "language": "python",
   "name": "python3"
  },
  "language_info": {
   "codemirror_mode": {
    "name": "ipython",
    "version": 3
   },
   "file_extension": ".py",
   "mimetype": "text/x-python",
   "name": "python",
   "nbconvert_exporter": "python",
   "pygments_lexer": "ipython3",
   "version": "3.7.0"
  }
 },
 "nbformat": 4,
 "nbformat_minor": 2
}
